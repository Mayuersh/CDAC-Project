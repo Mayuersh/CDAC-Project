{
 "cells": [
  {
   "cell_type": "code",
   "execution_count": 5,
   "id": "a7093263",
   "metadata": {},
   "outputs": [
    {
     "name": "stdout",
     "output_type": "stream",
     "text": [
      "Collecting autoscraper\n",
      "  Using cached autoscraper-1.1.14-py3-none-any.whl (10 kB)\n",
      "Collecting bs4\n",
      "  Using cached bs4-0.0.1.tar.gz (1.1 kB)\n",
      "Requirement already satisfied: requests in f:\\new folder\\lib\\site-packages (from autoscraper) (2.25.1)\n",
      "Requirement already satisfied: lxml in f:\\new folder\\lib\\site-packages (from autoscraper) (4.6.3)\n",
      "Requirement already satisfied: beautifulsoup4 in f:\\new folder\\lib\\site-packages (from bs4->autoscraper) (4.9.3)\n",
      "Requirement already satisfied: soupsieve>1.2 in f:\\new folder\\lib\\site-packages (from beautifulsoup4->bs4->autoscraper) (2.2.1)\n",
      "Requirement already satisfied: chardet<5,>=3.0.2 in f:\\new folder\\lib\\site-packages (from requests->autoscraper) (4.0.0)\n",
      "Requirement already satisfied: urllib3<1.27,>=1.21.1 in f:\\new folder\\lib\\site-packages (from requests->autoscraper) (1.26.4)\n",
      "Requirement already satisfied: certifi>=2017.4.17 in f:\\new folder\\lib\\site-packages (from requests->autoscraper) (2020.12.5)\n",
      "Requirement already satisfied: idna<3,>=2.5 in f:\\new folder\\lib\\site-packages (from requests->autoscraper) (2.10)\n",
      "Building wheels for collected packages: bs4\n",
      "  Building wheel for bs4 (setup.py): started\n",
      "  Building wheel for bs4 (setup.py): finished with status 'done'\n",
      "  Created wheel for bs4: filename=bs4-0.0.1-py3-none-any.whl size=1273 sha256=cfca80ad2be5b065f6eb1c38c2882ce41c094454e4c6a6dda8b9a653462ad38b\n",
      "  Stored in directory: c:\\users\\admin\\appdata\\local\\pip\\cache\\wheels\\75\\78\\21\\68b124549c9bdc94f822c02fb9aa3578a669843f9767776bca\n",
      "Successfully built bs4\n",
      "Installing collected packages: bs4, autoscraper\n",
      "Successfully installed autoscraper-1.1.14 bs4-0.0.1\n"
     ]
    }
   ],
   "source": [
    "\n",
    "from autoscraper import AutoScraper"
   ]
  },
  {
   "cell_type": "code",
   "execution_count": 6,
   "id": "a7a8d05d",
   "metadata": {},
   "outputs": [],
   "source": [
    "from autoscraper import AutoScraper"
   ]
  },
  {
   "cell_type": "code",
   "execution_count": 13,
   "id": "0e79ccb4",
   "metadata": {},
   "outputs": [],
   "source": [
    "amazon_url=\"https://www.amazon.in/s?k=headphones\"\n",
    "wanted_list=[\"₹22,990\",\"Sony WH-1000XM4 Industry Leading Wireless Noise Cancellation Bluetooth Over Ear Headphones with Mic \\\n",
    "for Phone Calls, 30 Hours Battery Life, Quick Charge, AUX, Touch Control and Voice Control - Black\"]"
   ]
  },
  {
   "cell_type": "code",
   "execution_count": 14,
   "id": "0c159318",
   "metadata": {},
   "outputs": [
    {
     "name": "stdout",
     "output_type": "stream",
     "text": [
      "['₹22,990', '₹3,499', '₹1,399', '₹899', '₹1,799', '₹2,899', 'Sony WH-1000XM4 Industry Leading Wireless Noise Cancellation Bluetooth Over Ear Headphones with Mic for Phone Calls, 30 Hours Battery Life, Quick Charge, AUX, Touch Control and Voice Control - Black', 'Boult Audio Anchor Bluetooth Wireless Over Ear Headphones with Mic, Active Noise Cancellation, 30H Playtime, AUX Option, Balanced Audio 40mm Drivers, Voice Assistant Sweatproof Gaming ANC Headphones', 'Boult Audio Z20 True Wireless in Ear Earbuds with Zen ENC Mic, 40H Playtime, Type-C Fast Charging, Made in India, 10mm Rich Bass Drivers, Environmental Noise Cancellation, IPX5 Ear Buds TWS (Green)', 'Boult Audio FXCharge Wireless in Ear Bluetooth Neckband with ENC Mic, 32H Playtime, Type-C Fast Charging (5Mins=7.5Hrs Playtime), Dual Pairing, Made in India, Biggest 14.2mm Drivers Ear Phones (Green)', 'boAt Rockerz 558 Bluetooth Wireless Over Ear Headphones with Mic Upto 20 Hours Playback, 50MM Drivers, Soft Padded Ear Cushions and Physical Noise Isolation(Army Green)', 'Philips Audio TAA4216 On-Ear Sports Bluetooth Headphones with IP55 Dust/Water Protection, 35 Hours Play Time, Cooling & Washable Ear Cups, Quick Charge, 40 mm Drivers and Built-in Mic (Black)']\n"
     ]
    }
   ],
   "source": [
    "scraper=AutoScraper()\n",
    "result=scraper.build(amazon_url,wanted_list)\n",
    "print(result)"
   ]
  },
  {
   "cell_type": "code",
   "execution_count": 15,
   "id": "9d1996f0",
   "metadata": {},
   "outputs": [
    {
     "data": {
      "text/plain": [
       "{'rule_4809': ['₹22,990', '₹3,499', '₹2,699', '₹1,399', '₹1,799', '₹899'],\n",
       " 'rule_n2fj': ['₹22,990', '₹3,499', '₹2,699', '₹1,399', '₹1,799', '₹899'],\n",
       " 'rule_qp32': ['Sony WH-1000XM4 Industry Leading Wireless Noise Cancellation Bluetooth Over Ear Headphones with Mic for Phone Calls, 30 Hours Battery Life, Quick Charge, AUX, Touch Control and Voice Control - Black',\n",
       "  'Boult Audio Anchor Bluetooth Wireless Over Ear Headphones with Mic, Active Noise Cancellation, 30H Playtime, AUX Option, Balanced Audio 40mm Drivers, Voice Assistant Sweatproof Gaming ANC Headphones',\n",
       "  'TOZO T6 True Wireless Earbuds Bluetooth 5.3 Headphones 45H Playtime with Wireless Charging Case, IPX8 Waterproof, OrigX Premium Sound Tech, Touch Control in-Ear Earphones Deep Bass with Mic Black',\n",
       "  'Boult Audio Z20 True Wireless in Ear Earbuds with Zen ENC Mic, 40H Playtime, Type-C Fast Charging, Made in India, 10mm Rich Bass Drivers, Environmental Noise Cancellation, IPX5 Ear Buds TWS (Green)',\n",
       "  'boAt Rockerz 558 Bluetooth Wireless Over Ear Headphones with Mic Upto 20 Hours Playback, 50MM Drivers, Soft Padded Ear Cushions and Physical Noise Isolation(Army Green)',\n",
       "  'Boult Audio FXCharge Wireless in Ear Bluetooth Neckband with ENC Mic, 32H Playtime, Type-C Fast Charging (5Mins=7.5Hrs Playtime), Dual Pairing, Made in India, Biggest 14.2mm Drivers Ear Phones (Green)']}"
      ]
     },
     "execution_count": 15,
     "metadata": {},
     "output_type": "execute_result"
    }
   ],
   "source": [
    "scraper.get_result_similar(amazon_url,grouped=True)"
   ]
  },
  {
   "cell_type": "code",
   "execution_count": 18,
   "id": "6af59ab9",
   "metadata": {},
   "outputs": [],
   "source": [
    "scraper.set_rule_aliases({'rule_n2fj':'Price','rule_qp32':'Title'})\n",
    "scraper.keep_rules(['rule_n2fj','rule_qp32'])\n",
    "scraper.save('amazon-search')"
   ]
  },
  {
   "cell_type": "code",
   "execution_count": null,
   "id": "813d7dcc",
   "metadata": {},
   "outputs": [],
   "source": []
  }
 ],
 "metadata": {
  "kernelspec": {
   "display_name": "Python 3",
   "language": "python",
   "name": "python3"
  },
  "language_info": {
   "codemirror_mode": {
    "name": "ipython",
    "version": 3
   },
   "file_extension": ".py",
   "mimetype": "text/x-python",
   "name": "python",
   "nbconvert_exporter": "python",
   "pygments_lexer": "ipython3",
   "version": "3.8.8"
  }
 },
 "nbformat": 4,
 "nbformat_minor": 5
}
